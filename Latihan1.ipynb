{
 "cells": [
  {
   "cell_type": "code",
   "execution_count": 4,
   "id": "a4c797cc-3d46-46fd-97fd-e4b2540d205f",
   "metadata": {},
   "outputs": [
    {
     "name": "stdout",
     "output_type": "stream",
     "text": [
      "{'Count': '15', 'RetMax': '15', 'RetStart': '0', 'IdList': ['22094512', '1073722441', '1073722439', '1073722437', '1073722392', '1073722391', '1073722349', '1073722348', '1073722291', '1073722289', '1073722287', '1073722260', '1073722259', '1073722258', '62999025'], 'TranslationSet': [{'From': 'Margaritifera hembeli', 'To': '\"Margaritifera hembeli\"[Organism] OR Margaritifera hembeli[All Fields]'}], 'TranslationStack': [{'Term': '\"Margaritifera hembeli\"[Organism]', 'Field': 'Organism', 'Count': '15', 'Explode': 'Y'}, {'Term': 'Margaritifera hembeli[All Fields]', 'Field': 'All Fields', 'Count': '15', 'Explode': 'N'}, 'OR', 'GROUP'], 'QueryTranslation': '\"Margaritifera hembeli\"[Organism] OR Margaritifera hembeli[All Fields]'}\n"
     ]
    }
   ],
   "source": [
    "from Bio import Entrez\n",
    "Entrez.email = \"localuser@localhost.localdomain\" #Mandatory! Can be replaced with your personal email.\n",
    "\n",
    "#creating handle\n",
    "handle = Entrez.esearch(db=\"nuccore\", term=\"Margaritifera hembeli\")\n",
    "record = Entrez.read(handle)\n",
    "print(record)\n",
    "handle.close() #always close your handle after you finish\n"
   ]
  },
  {
   "cell_type": "code",
   "execution_count": 5,
   "id": "070b49a3-9e06-4ac5-af2e-703d0f4077ec",
   "metadata": {},
   "outputs": [
    {
     "name": "stdout",
     "output_type": "stream",
     "text": [
      "{'Count': '2', 'RetMax': '2', 'RetStart': '0', 'IdList': ['22094512', '62999025'], 'TranslationSet': [{'From': 'Margaritifera hembeli', 'To': '\"Margaritifera hembeli\"[Organism] OR Margaritifera hembeli[All Fields]'}], 'TranslationStack': [{'Term': '\"Margaritifera hembeli\"[Organism]', 'Field': 'Organism', 'Count': '15', 'Explode': 'Y'}, {'Term': 'Margaritifera hembeli[All Fields]', 'Field': 'All Fields', 'Count': '15', 'Explode': 'N'}, 'OR', 'GROUP', {'Term': 'COII[All Fields]', 'Field': 'All Fields', 'Count': '87280', 'Explode': 'N'}, 'AND', 'GROUP'], 'QueryTranslation': '(\"Margaritifera hembeli\"[Organism] OR Margaritifera hembeli[All Fields]) AND COII[All Fields]'}\n"
     ]
    }
   ],
   "source": [
    "from Bio import Entrez\n",
    "Entrez.email = \"localuser@localhost.localdomain\" #Mandatory! Can be replaced with your personal email.\n",
    "\n",
    "#creating handle\n",
    "handle = Entrez.esearch(db=\"nuccore\", term=\"Margaritifera hembeli COII\")\n",
    "record = Entrez.read(handle)\n",
    "print(record)\n",
    "handle.close() #always close your handle after you finish\n"
   ]
  },
  {
   "cell_type": "code",
   "execution_count": 7,
   "id": "7b6419eb-5ca2-4cde-aa33-b209aedf64e1",
   "metadata": {},
   "outputs": [
    {
     "name": "stdout",
     "output_type": "stream",
     "text": [
      "LOCUS       AY951929                 816 bp    DNA     linear   INV 26-JUL-2016\n",
      "DEFINITION  Margaritifera hembeli cytochrome c oxidase subunit II (COII) gene,\n",
      "            partial cds; mitochondrial.\n",
      "ACCESSION   AY951929\n",
      "VERSION     AY951929.1\n",
      "KEYWORDS    .\n",
      "SOURCE      mitochondrion Margaritifera hembeli\n",
      "  ORGANISM  Margaritifera hembeli\n",
      "            Eukaryota; Metazoa; Spiralia; Lophotrochozoa; Mollusca; Bivalvia;\n",
      "            Autobranchia; Heteroconchia; Palaeoheterodonta; Unionida;\n",
      "            Unionoidea; Margaritiferidae; Margaritifera.\n",
      "REFERENCE   1  (bases 1 to 816)\n",
      "  AUTHORS   Curole,J.P. and Kocher,T.D.\n",
      "  TITLE     Evolution of a unique mitotype-specific protein-coding extension of\n",
      "            the cytochrome c oxidase II gene in freshwater mussels (Bivalvia:\n",
      "            Unionoida)\n",
      "  JOURNAL   J. Mol. Evol. 61 (3), 381-389 (2005)\n",
      "   PUBMED   16082567\n",
      "REFERENCE   2  (bases 1 to 816)\n",
      "  AUTHORS   Curole,J.P. and Kocher,T.D.\n",
      "  TITLE     Direct Submission\n",
      "  JOURNAL   Submitted (02-MAR-2005) Hubbard Center for Genome Studies,\n",
      "            University of New Hampshire, 35 Colovos Rd., Durham, NH 03824, USA\n",
      "FEATURES             Location/Qualifiers\n",
      "     source          1..816\n",
      "                     /organism=\"Margaritifera hembeli\"\n",
      "                     /organelle=\"mitochondrion\"\n",
      "                     /mol_type=\"genomic DNA\"\n",
      "                     /db_xref=\"taxon:202944\"\n",
      "                     /sex=\"male\"\n",
      "                     /tissue_type=\"gonad\"\n",
      "     gene            <1..816\n",
      "                     /gene=\"COII\"\n",
      "     CDS             <1..816\n",
      "                     /gene=\"COII\"\n",
      "                     /note=\"MTCOII\"\n",
      "                     /codon_start=1\n",
      "                     /transl_table=5\n",
      "                     /product=\"cytochrome c oxidase subunit II\"\n",
      "                     /protein_id=\"AAY24997.1\"\n",
      "                     /translation=\"GGYRLLDVDNRFVVPYTVPMRVLVSSSDVVHSWAIPSAGVKVDG\n",
      "                     VAGRVNQVGLSFFGPGVVYGQCSELCGVNHSFMPVCGEVVSCEAYALWLLPKNCPVGS\n",
      "                     TLWGNCCDWGYMLLCGLGRGVKWCGGLYWGWWKFFGYYFMVMPVKWTVDSTVVVVTGS\n",
      "                     VHTCCDFFDWGLWFLKSPSAACNHAAIKIDGWIESLFMTVVVTPIEITWNAFGTIGSV\n",
      "                     IGKAGRGLIQLIESAISELSGPDETHTKRAVCEEVRVWMVRFYRVMASRFRGD\"\n",
      "ORIGIN      \n",
      "        1 ggagggtatc ggttgttgga tgttgataat cgttttgtgg ttccgtatac ggtgcctatg\n",
      "       61 cgagttttgg ttaggtcatc tgatgtggtt cattcttggg ctattccttc tgctggggtt\n",
      "      121 aaagtggatg gtgttgctgg gcgagttaat caggtaggtt tgagtttttt tggtcctgga\n",
      "      181 gtggtttatg ggcagtgtag tgagttatgt ggggttaatc attcgtttat accagtttgt\n",
      "      241 ggtgaagttg tctcttgtga ggcgtatgcg ttatggttgt taccaaagaa ttgccctgtt\n",
      "      301 gggaggactc tgtggggtaa ttgctgtgat tggggttata tgcttttgtg tggtcttggg\n",
      "      361 cgtggtgtta aatggtgtgg aggtctttat tggggttggt gaaagttttt tggttattac\n",
      "      421 tttatagtaa tacctgttaa gtggactgta gacaggacag ttgtggttgt aacagggagg\n",
      "      481 gttcatactt gttgcgattt ttttgattgg ggtttgtggt ttttaaagag ccctagtgcg\n",
      "      541 gcgtgtaatc atgccgcaat taaaattgat gggtgaattg agtctttatt tatgaccgtt\n",
      "      601 gttgttacac caattgagat tacttggaat gcttttggca caattgggag tgtcattggt\n",
      "      661 aaggcgggtc gtgggcttat ccaattgatt gagtcggcga tttctgagtt gaggggtccg\n",
      "      721 gacgaaacgc ataccaagcg ggctgtgtgt gaggaagtgc gagtgtggat agttcggttt\n",
      "      781 tatcgtgtta tggcgagtcg ttttcgtggg gattag\n",
      "//\n",
      "\n",
      "\n"
     ]
    }
   ],
   "source": [
    "efetch_handle = Entrez.efetch(db=\"nuccore\", id=\"AY951929\", rettype=\"gb\", retmode=\"text\")\n",
    "gbrecord = efetch_handle.read()\n",
    "print(gbrecord)\n"
   ]
  },
  {
   "cell_type": "code",
   "execution_count": 8,
   "id": "46e13e86-3b3e-4a41-a7ca-31f1d83d28fb",
   "metadata": {},
   "outputs": [
    {
     "name": "stdout",
     "output_type": "stream",
     "text": [
      ">AY951929.1 Margaritifera hembeli cytochrome c oxidase subunit II (COII) gene, partial cds; mitochondrial\n",
      "GGAGGGTATCGGTTGTTGGATGTTGATAATCGTTTTGTGGTTCCGTATACGGTGCCTATGCGAGTTTTGG\n",
      "TTAGGTCATCTGATGTGGTTCATTCTTGGGCTATTCCTTCTGCTGGGGTTAAAGTGGATGGTGTTGCTGG\n",
      "GCGAGTTAATCAGGTAGGTTTGAGTTTTTTTGGTCCTGGAGTGGTTTATGGGCAGTGTAGTGAGTTATGT\n",
      "GGGGTTAATCATTCGTTTATACCAGTTTGTGGTGAAGTTGTCTCTTGTGAGGCGTATGCGTTATGGTTGT\n",
      "TACCAAAGAATTGCCCTGTTGGGAGGACTCTGTGGGGTAATTGCTGTGATTGGGGTTATATGCTTTTGTG\n",
      "TGGTCTTGGGCGTGGTGTTAAATGGTGTGGAGGTCTTTATTGGGGTTGGTGAAAGTTTTTTGGTTATTAC\n",
      "TTTATAGTAATACCTGTTAAGTGGACTGTAGACAGGACAGTTGTGGTTGTAACAGGGAGGGTTCATACTT\n",
      "GTTGCGATTTTTTTGATTGGGGTTTGTGGTTTTTAAAGAGCCCTAGTGCGGCGTGTAATCATGCCGCAAT\n",
      "TAAAATTGATGGGTGAATTGAGTCTTTATTTATGACCGTTGTTGTTACACCAATTGAGATTACTTGGAAT\n",
      "GCTTTTGGCACAATTGGGAGTGTCATTGGTAAGGCGGGTCGTGGGCTTATCCAATTGATTGAGTCGGCGA\n",
      "TTTCTGAGTTGAGGGGTCCGGACGAAACGCATACCAAGCGGGCTGTGTGTGAGGAAGTGCGAGTGTGGAT\n",
      "AGTTCGGTTTTATCGTGTTATGGCGAGTCGTTTTCGTGGGGATTAG\n",
      "\n",
      "\n"
     ]
    }
   ],
   "source": [
    "efetch_handle = Entrez.efetch(db=\"nuccore\", id=\"AY951929\", rettype=\"fasta\", retmode=\"text\")\n",
    "gbrecord = efetch_handle.read()\n",
    "print(gbrecord)"
   ]
  },
  {
   "cell_type": "code",
   "execution_count": 10,
   "id": "5d440cfb-868d-40d9-af82-61fe3db149ac",
   "metadata": {},
   "outputs": [
    {
     "name": "stdout",
     "output_type": "stream",
     "text": [
      "FASTA Download\n"
     ]
    }
   ],
   "source": [
    "import os\n",
    "\n",
    "#creating EFetch handle\n",
    "filename = \"COII Margaritifera hembeli.fasta\" #up to you, but FASTA files always use *.fasta or *.fas \n",
    "\n",
    "#creating EFetch handle\n",
    "if not os.path.isfile(filename):\n",
    "    # Downloading file...\n",
    "    efetch_handle = Entrez.efetch(db=\"nuccore\", id=\"AY951929\", rettype=\"fasta\", retmode=\"text\")\n",
    "    output_file_handle = open(filename, \"w\")\n",
    "    output_file_handle.write(efetch_handle.read())\n",
    "    output_file_handle.close()\n",
    "    efetch_handle.close()\n",
    "print (\"FASTA Download\")"
   ]
  },
  {
   "cell_type": "code",
   "execution_count": 20,
   "id": "c2d7be64-d493-4ed9-95c6-16021dfae09a",
   "metadata": {},
   "outputs": [
    {
     "name": "stdout",
     "output_type": "stream",
     "text": [
      "GB Downloaded\n"
     ]
    }
   ],
   "source": [
    "#creating EFetch handle\n",
    "filename = \"Margaritifera hembeli complete cytochrome.gbk\" #up to you, but Genbank files always use *.gb or *.gbk \n",
    "\n",
    "#creating EFetch handle\n",
    "if not os.path.isfile(filename):\n",
    "    # Downloading file...\n",
    "    efetch_handle = Entrez.efetch(db=\"nuccore\", id=\"AY951929\", rettype=\"gb\", retmode=\"text\")\n",
    "    output_file_handle = open(filename, \"w\")\n",
    "    output_file_handle.write(efetch_handle.read())\n",
    "    output_file_handle.close()\n",
    "    efetch_handle.close()\n",
    "print (\"GB Downloaded\")\n",
    "\n",
    "\n"
   ]
  },
  {
   "cell_type": "code",
   "execution_count": 18,
   "id": "12bbf586-b3dd-4af3-a63c-5c4a1cc7f882",
   "metadata": {},
   "outputs": [
    {
     "name": "stdout",
     "output_type": "stream",
     "text": [
      ">COII|Margaritifera hembeli cytochrome c oxidase subunit II (COII) gene, partial cds; mitochondrial\n",
      "GGAGGGTATCGGTTGTTGGATGTTGATAATCGTTTTGTGGTTCCGTATACGGTGCCTATGCGAGTTTTGGTTAGGTCATCTGATGTGGTTCATTCTTGGGCTATTCCTTCTGCTGGGGTTAAAGTGGATGGTGTTGCTGGGCGAGTTAATCAGGTAGGTTTGAGTTTTTTTGGTCCTGGAGTGGTTTATGGGCAGTGTAGTGAGTTATGTGGGGTTAATCATTCGTTTATACCAGTTTGTGGTGAAGTTGTCTCTTGTGAGGCGTATGCGTTATGGTTGTTACCAAAGAATTGCCCTGTTGGGAGGACTCTGTGGGGTAATTGCTGTGATTGGGGTTATATGCTTTTGTGTGGTCTTGGGCGTGGTGTTAAATGGTGTGGAGGTCTTTATTGGGGTTGGTGAAAGTTTTTTGGTTATTACTTTATAGTAATACCTGTTAAGTGGACTGTAGACAGGACAGTTGTGGTTGTAACAGGGAGGGTTCATACTTGTTGCGATTTTTTTGATTGGGGTTTGTGGTTTTTAAAGAGCCCTAGTGCGGCGTGTAATCATGCCGCAATTAAAATTGATGGGTGAATTGAGTCTTTATTTATGACCGTTGTTGTTACACCAATTGAGATTACTTGGAATGCTTTTGGCACAATTGGGAGTGTCATTGGTAAGGCGGGTCGTGGGCTTATCCAATTGATTGAGTCGGCGATTTCTGAGTTGAGGGGTCCGGACGAAACGCATACCAAGCGGGCTGTGTGTGAGGAAGTGCGAGTGTGGATAGTTCGGTTTTATCGTGTTATGGCGAGTCGTTTTCGTGGGGATTAG\n"
     ]
    }
   ],
   "source": [
    "from Bio import SeqIO\n",
    "\n",
    "GoI = \"COII\" #change \" COII\" here with your GoI\n",
    "\n",
    "for genome in SeqIO.parse(\"Margaritifera hembeli complete cytochrome.gbk\",\"genbank\"):\n",
    "    for gene in genome.features:\n",
    "        if gene.type != \"CDS\":\n",
    "            continue\n",
    "        if \"gene\" not in gene.qualifiers:\n",
    "            continue\n",
    "        if GoI not in gene.qualifiers[\"gene\"][0]: \n",
    "            continue\n",
    "        gene_seq = gene.extract(genome.seq)\n",
    "\n",
    "GoI_fasta = \">%s|%s\\n%s\" % (GoI, genome.description, gene_seq)\n",
    "print(GoI_fasta)\n"
   ]
  },
  {
   "cell_type": "code",
   "execution_count": 19,
   "id": "31b795cc-1702-4b4d-ad30-51188af5aad7",
   "metadata": {},
   "outputs": [],
   "source": [
    "from Bio import SeqIO\n",
    "\n",
    "GoI = \"COII\" \n",
    "\n",
    "for genome in SeqIO.parse(\"Margaritifera hembeli complete cytochrome.gbk\",\"genbank\"):\n",
    "    for gene in genome.features:\n",
    "        if gene.type != \"CDS\":\n",
    "            continue\n",
    "        if \"gene\" not in gene.qualifiers:\n",
    "            continue\n",
    "        if GoI not in gene.qualifiers[\"gene\"][0]: \n",
    "            continue\n",
    "        gene_seq = gene.extract(genome.seq)\n",
    "\n",
    "GoI_fasta = \">%s|%s\\n%s\" % (GoI, genome.description, gene_seq)\n",
    "with open(\"GoI_fasta.fasta\",\"w\") as f:\n",
    "    f.write(GoI_fasta)"
   ]
  },
  {
   "cell_type": "code",
   "execution_count": null,
   "id": "334634e0-17d3-463b-81a9-da15d037d45b",
   "metadata": {},
   "outputs": [],
   "source": []
  }
 ],
 "metadata": {
  "kernelspec": {
   "display_name": "Python 3 (ipykernel)",
   "language": "python",
   "name": "python3"
  },
  "language_info": {
   "codemirror_mode": {
    "name": "ipython",
    "version": 3
   },
   "file_extension": ".py",
   "mimetype": "text/x-python",
   "name": "python",
   "nbconvert_exporter": "python",
   "pygments_lexer": "ipython3",
   "version": "3.9.7"
  }
 },
 "nbformat": 4,
 "nbformat_minor": 5
}
